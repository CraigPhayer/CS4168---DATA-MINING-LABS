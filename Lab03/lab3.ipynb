{
 "cells": [
  {
   "metadata": {},
   "cell_type": "markdown",
   "source": [
    "# Lab 3: Clustering and Manifold Learning (2%)\n",
    "\n",
    "# Craig Phayer - 21340633"
   ],
   "id": "7fb1efaf9dfa87"
  },
  {
   "metadata": {},
   "cell_type": "markdown",
   "source": [
    "In this exercise, you will be introduced to standard techniques for unsupervised ML used also for EDA. These include the k-means clustering algorithm and manifold-learning techniques, such as multi-dimensional scaling (MSD) and t-SNE. This exercise aims to practice these techniques for discovering and visualising hidden patterns in data.\n",
    "\n",
    "At the end of this exercise you should be able to:\n",
    "\n",
    "Apply a clustering algorithm for partitioning a data set into clusters of similar examples.\n",
    "Use a manifold-learning technique to visualise a clustered data set with 3 or more numerical attributes as a 2D scatter plot.\n",
    "\n",
    "### Task 1\n",
    "Download the following dataset and example notebooks:\\\n",
    "[iris_nolabels.csv](https://learn.ul.ie/content/enforced/49261-CS4168_SEM2_2024_5/iris_nolabels.csv)\\\n",
    "[Lab 3 - Clustering and Manifold Learning (without pipeline).ipynb](https://learn.ul.ie/content/enforced/49261-CS4168_SEM2_2024_5/Lab%203%20-%20Clustering%20and%20Manifold%20Learning%20(without%20pipeline).ipynb)\\\n",
    "[Lab 3 - Clustering and Manifold Learning (with pipeline).ipynb](https://learn.ul.ie/content/enforced/49261-CS4168_SEM2_2024_5/Lab%203%20-%20Clustering%20and%20Manifold%20Learning%20(with%20pipeline).ipynb)\n",
    "\n",
    "### Task 2\n",
    "Follow the example notebooks to cluster either the loans_train dataset or the bank dataset after it has been prepared for ML (i.e. the result of Lab 2). That is, there is no need to use a data preprocessing pipeline. Use the k-means clustering algorithm and visualise the clustering. Pick a value of k suggested by MDS and t-SNE visualisations of the dataset. Experiment with various values of the parameters of k-Means. Aim at producing a meaningful clustering that allows you to describe the clusters with words. Write a short conclusion about the characteristics of the clusters.\n",
    "\n",
    "### Task 3\n",
    "Plot the sum of squared distances from the data points to the k-Means clusters' centres for various values of k. Use the Elbow method to pick the best value of k. If it suggests a different value of k (from the one you used in Task 2), compute a new k-Means clustering.\n",
    "\n",
    "### Task 4\n",
    "Implement and plot the results of the Silhouette method for determining the best value of k for k-Means. Compare the results of the Elbow method to the results of the Silhouette method.\n",
    "\n",
    "### Task 5\n",
    "Apply another clustering algorithm (from the ones available in scikit-learn, e.g. DBSCAN) to the same dataset and an appropriate manifold-learning technique to visualise the clustering."
   ],
   "id": "1562d784ee90e810"
  },
  {
   "cell_type": "code",
   "execution_count": null,
   "id": "initial_id",
   "metadata": {
    "collapsed": true
   },
   "outputs": [],
   "source": [
    ""
   ]
  }
 ],
 "metadata": {
  "kernelspec": {
   "display_name": "Python 3",
   "language": "python",
   "name": "python3"
  },
  "language_info": {
   "codemirror_mode": {
    "name": "ipython",
    "version": 2
   },
   "file_extension": ".py",
   "mimetype": "text/x-python",
   "name": "python",
   "nbconvert_exporter": "python",
   "pygments_lexer": "ipython2",
   "version": "2.7.6"
  }
 },
 "nbformat": 4,
 "nbformat_minor": 5
}
