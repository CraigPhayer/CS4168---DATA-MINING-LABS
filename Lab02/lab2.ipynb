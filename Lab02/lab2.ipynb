{
 "cells": [
  {
   "metadata": {},
   "cell_type": "markdown",
   "source": [
    "# Lab 2: Data Preparation\n",
    "\n",
    "# Craig Phayer - 21340633"
   ],
   "id": "2448459807b25646"
  },
  {
   "metadata": {},
   "cell_type": "markdown",
   "source": [
    "In the previous lab exercise, you practised performing exploratory data analysis (EDA) of a dataset without making changes to the dataset. Once you have a good understanding of the dataset, a next step in the data analytics process is to prepare this dataset for more elaborate analysis that typically involves machine learning algorithms. This preparation is known as data munging or data wrangling, and it typically involves:\n",
    "\n",
    "encoding categorical features as numerical,\n",
    "filling in missing values,\n",
    "rescaling numerical features (i.e. columns) or normalising examples,\n",
    "appropriately treating outliers/extreme values,\n",
    "creating new features (i.e. columns) from the existing ones.\n",
    "At the end of this lab exercise, you should be able to apply commonly used techniques for data preparation.\n",
    "\n",
    "### Task 1\n",
    "Download the following dataset and example Jupyter notebook:\n",
    "\n",
    "[loans_train.csv](https://learn.ul.ie/content/enforced/49261-CS4168_SEM2_2024_5/1.Resources/loans_train.csv)\n",
    "[Lab 2 - Data Preparation.ipynb](https://learn.ul.ie/content/enforced/49261-CS4168_SEM2_2024_5/1.Resources/Lab%202%20-%20Data%20Preparation.ipynb)\n",
    "\n",
    "### Task 2\n",
    "Download the dataset: [bank.csv.](https://learn.ul.ie/content/enforced/49261-CS4168_SEM2_2024_5/1.Resources/bank.csv)\n",
    "\n",
    "### Task 3\n",
    "Open a new Jupyter notebook. In your notebook, load bank.csv into a Pandas dataframe. Follow the examples and process in Lab 2 - Data Preparation.ipynb to prepare bank.csv for machine learning.\n",
    "\n",
    "Ensure that you have:\n",
    "\n",
    "encoded all categorical attributes as numerical,\n",
    "treated/filled in missing values\n",
    "applied scaler where necessary\n",
    "treated outliers appropriately\n",
    "created at least one new feature from the existing ones.\n",
    "In the end, save the prepared dataset as a CSV file on your hard disk."
   ],
   "id": "31172d5a815c2630"
  },
  {
   "cell_type": "code",
   "execution_count": null,
   "id": "initial_id",
   "metadata": {
    "collapsed": true
   },
   "outputs": [],
   "source": [
    ""
   ]
  }
 ],
 "metadata": {
  "kernelspec": {
   "display_name": "Python 3",
   "language": "python",
   "name": "python3"
  },
  "language_info": {
   "codemirror_mode": {
    "name": "ipython",
    "version": 2
   },
   "file_extension": ".py",
   "mimetype": "text/x-python",
   "name": "python",
   "nbconvert_exporter": "python",
   "pygments_lexer": "ipython2",
   "version": "2.7.6"
  }
 },
 "nbformat": 4,
 "nbformat_minor": 5
}
