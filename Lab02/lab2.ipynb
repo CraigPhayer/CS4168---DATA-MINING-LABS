{
 "cells": [
  {
   "metadata": {},
   "cell_type": "markdown",
   "source": [
    "# Lab 2: Data Preparation\n",
    "\n",
    "# Craig Phayer - 21340633"
   ],
   "id": "2448459807b25646"
  },
  {
   "metadata": {},
   "cell_type": "markdown",
   "source": [
    "In the previous lab exercise, you practised performing exploratory data analysis (EDA) of a dataset without making changes to the dataset. Once you have a good understanding of the dataset, a next step in the data analytics process is to prepare this dataset for more elaborate analysis that typically involves machine learning algorithms. This preparation is known as data munging or data wrangling, and it typically involves:\n",
    "\n",
    "encoding categorical features as numerical,\n",
    "filling in missing values,\n",
    "rescaling numerical features (i.e. columns) or normalising examples,\n",
    "appropriately treating outliers/extreme values,\n",
    "creating new features (i.e. columns) from the existing ones.\n",
    "At the end of this lab exercise, you should be able to apply commonly used techniques for data preparation.\n",
    "\n",
    "### Task 1\n",
    "Download the following dataset and example Jupyter notebook:\n",
    "\n",
    "[loans_train.csv](https://learn.ul.ie/content/enforced/49261-CS4168_SEM2_2024_5/1.Resources/loans_train.csv)\n",
    "\n",
    "[Lab 2 - Data Preparation.ipynb](https://learn.ul.ie/content/enforced/49261-CS4168_SEM2_2024_5/1.Resources/Lab%202%20-%20Data%20Preparation.ipynb)\n",
    "\n",
    "### Task 2\n",
    "Download the dataset: [bank.csv.](https://learn.ul.ie/content/enforced/49261-CS4168_SEM2_2024_5/1.Resources/bank.csv)\n",
    "\n",
    "### Task 3\n",
    "Open a new Jupyter notebook. In your notebook, load bank.csv into a Pandas dataframe. Follow the examples and process in Lab 2 - Data Preparation.ipynb to prepare bank.csv for machine learning.\n",
    "\n",
    "Ensure that you have:\n",
    "\n",
    "encoded all categorical attributes as numerical,\n",
    "treated/filled in missing values\n",
    "applied scaler where necessary\n",
    "treated outliers appropriately\n",
    "created at least one new feature from the existing ones.\n",
    "In the end, save the prepared dataset as a CSV file on your hard disk."
   ],
   "id": "31172d5a815c2630"
  },
  {
   "cell_type": "code",
   "id": "initial_id",
   "metadata": {
    "collapsed": true,
    "ExecuteTime": {
     "end_time": "2025-02-20T11:17:29.453218Z",
     "start_time": "2025-02-20T11:17:29.441214Z"
    }
   },
   "source": [
    "# imports\n",
    "\n",
    "import pandas as pd\n",
    "import numpy as np\n",
    "from sklearn.preprocessing import RobustScaler\n",
    "import matplotlib.pyplot as plt\n",
    "import seaborn as sns\n",
    "import warnings\n",
    "\n",
    "warnings.simplefilter(\"ignore\")"
   ],
   "outputs": [],
   "execution_count": 13
  },
  {
   "metadata": {
    "ExecuteTime": {
     "end_time": "2025-02-20T11:17:30.057107Z",
     "start_time": "2025-02-20T11:17:29.973115Z"
    }
   },
   "cell_type": "code",
   "source": [
    "df = pd.read_csv('../Data/bank.csv')\n",
    "\n",
    "df.head(10)"
   ],
   "id": "c00fb2f50dd5f88f",
   "outputs": [
    {
     "data": {
      "text/plain": [
       "    age            job   marital  education default  balance housing loan  \\\n",
       "0  32.0     technician    single   tertiary      no      392     yes   no   \n",
       "1  39.0     technician  divorced  secondary      no      688     yes  yes   \n",
       "2  59.0        retired   married  secondary      no     1035     yes  yes   \n",
       "3  47.0    blue-collar   married  secondary      no      398     yes  yes   \n",
       "4  54.0        retired   married  secondary      no     1004     yes   no   \n",
       "5  46.0  self-employed  divorced   tertiary      no      926     yes   no   \n",
       "6  34.0    blue-collar   married  secondary      no     1924     yes  yes   \n",
       "7  45.0       services  divorced  secondary      no      396     yes  yes   \n",
       "8  58.0     management  divorced   tertiary      no      315     yes   no   \n",
       "9  49.0     management  divorced   tertiary      no    20727      no   no   \n",
       "\n",
       "    contact  day month  duration  campaign  pdays  previous poutcome  \\\n",
       "0  cellular    1   apr       957         2    131         2  failure   \n",
       "1  cellular    1   apr       233         2    133         1  failure   \n",
       "2  cellular    1   apr       126         2    239         1  failure   \n",
       "3  cellular    1   apr       274         1    238         2  failure   \n",
       "4  cellular    1   apr       479         1    307         1  failure   \n",
       "5  cellular    1   apr       463         1    133         3  failure   \n",
       "6  cellular    1   apr       161         2    253         1  failure   \n",
       "7  cellular    1   apr       251         4    329         4  failure   \n",
       "8  cellular    1   apr       121         2    135         2  failure   \n",
       "9  cellular    1   apr       285         3    132         2  failure   \n",
       "\n",
       "  subscribed  \n",
       "0         no  \n",
       "1         no  \n",
       "2         no  \n",
       "3         no  \n",
       "4         no  \n",
       "5         no  \n",
       "6         no  \n",
       "7         no  \n",
       "8         no  \n",
       "9         no  "
      ],
      "text/html": [
       "<div>\n",
       "<style scoped>\n",
       "    .dataframe tbody tr th:only-of-type {\n",
       "        vertical-align: middle;\n",
       "    }\n",
       "\n",
       "    .dataframe tbody tr th {\n",
       "        vertical-align: top;\n",
       "    }\n",
       "\n",
       "    .dataframe thead th {\n",
       "        text-align: right;\n",
       "    }\n",
       "</style>\n",
       "<table border=\"1\" class=\"dataframe\">\n",
       "  <thead>\n",
       "    <tr style=\"text-align: right;\">\n",
       "      <th></th>\n",
       "      <th>age</th>\n",
       "      <th>job</th>\n",
       "      <th>marital</th>\n",
       "      <th>education</th>\n",
       "      <th>default</th>\n",
       "      <th>balance</th>\n",
       "      <th>housing</th>\n",
       "      <th>loan</th>\n",
       "      <th>contact</th>\n",
       "      <th>day</th>\n",
       "      <th>month</th>\n",
       "      <th>duration</th>\n",
       "      <th>campaign</th>\n",
       "      <th>pdays</th>\n",
       "      <th>previous</th>\n",
       "      <th>poutcome</th>\n",
       "      <th>subscribed</th>\n",
       "    </tr>\n",
       "  </thead>\n",
       "  <tbody>\n",
       "    <tr>\n",
       "      <th>0</th>\n",
       "      <td>32.0</td>\n",
       "      <td>technician</td>\n",
       "      <td>single</td>\n",
       "      <td>tertiary</td>\n",
       "      <td>no</td>\n",
       "      <td>392</td>\n",
       "      <td>yes</td>\n",
       "      <td>no</td>\n",
       "      <td>cellular</td>\n",
       "      <td>1</td>\n",
       "      <td>apr</td>\n",
       "      <td>957</td>\n",
       "      <td>2</td>\n",
       "      <td>131</td>\n",
       "      <td>2</td>\n",
       "      <td>failure</td>\n",
       "      <td>no</td>\n",
       "    </tr>\n",
       "    <tr>\n",
       "      <th>1</th>\n",
       "      <td>39.0</td>\n",
       "      <td>technician</td>\n",
       "      <td>divorced</td>\n",
       "      <td>secondary</td>\n",
       "      <td>no</td>\n",
       "      <td>688</td>\n",
       "      <td>yes</td>\n",
       "      <td>yes</td>\n",
       "      <td>cellular</td>\n",
       "      <td>1</td>\n",
       "      <td>apr</td>\n",
       "      <td>233</td>\n",
       "      <td>2</td>\n",
       "      <td>133</td>\n",
       "      <td>1</td>\n",
       "      <td>failure</td>\n",
       "      <td>no</td>\n",
       "    </tr>\n",
       "    <tr>\n",
       "      <th>2</th>\n",
       "      <td>59.0</td>\n",
       "      <td>retired</td>\n",
       "      <td>married</td>\n",
       "      <td>secondary</td>\n",
       "      <td>no</td>\n",
       "      <td>1035</td>\n",
       "      <td>yes</td>\n",
       "      <td>yes</td>\n",
       "      <td>cellular</td>\n",
       "      <td>1</td>\n",
       "      <td>apr</td>\n",
       "      <td>126</td>\n",
       "      <td>2</td>\n",
       "      <td>239</td>\n",
       "      <td>1</td>\n",
       "      <td>failure</td>\n",
       "      <td>no</td>\n",
       "    </tr>\n",
       "    <tr>\n",
       "      <th>3</th>\n",
       "      <td>47.0</td>\n",
       "      <td>blue-collar</td>\n",
       "      <td>married</td>\n",
       "      <td>secondary</td>\n",
       "      <td>no</td>\n",
       "      <td>398</td>\n",
       "      <td>yes</td>\n",
       "      <td>yes</td>\n",
       "      <td>cellular</td>\n",
       "      <td>1</td>\n",
       "      <td>apr</td>\n",
       "      <td>274</td>\n",
       "      <td>1</td>\n",
       "      <td>238</td>\n",
       "      <td>2</td>\n",
       "      <td>failure</td>\n",
       "      <td>no</td>\n",
       "    </tr>\n",
       "    <tr>\n",
       "      <th>4</th>\n",
       "      <td>54.0</td>\n",
       "      <td>retired</td>\n",
       "      <td>married</td>\n",
       "      <td>secondary</td>\n",
       "      <td>no</td>\n",
       "      <td>1004</td>\n",
       "      <td>yes</td>\n",
       "      <td>no</td>\n",
       "      <td>cellular</td>\n",
       "      <td>1</td>\n",
       "      <td>apr</td>\n",
       "      <td>479</td>\n",
       "      <td>1</td>\n",
       "      <td>307</td>\n",
       "      <td>1</td>\n",
       "      <td>failure</td>\n",
       "      <td>no</td>\n",
       "    </tr>\n",
       "    <tr>\n",
       "      <th>5</th>\n",
       "      <td>46.0</td>\n",
       "      <td>self-employed</td>\n",
       "      <td>divorced</td>\n",
       "      <td>tertiary</td>\n",
       "      <td>no</td>\n",
       "      <td>926</td>\n",
       "      <td>yes</td>\n",
       "      <td>no</td>\n",
       "      <td>cellular</td>\n",
       "      <td>1</td>\n",
       "      <td>apr</td>\n",
       "      <td>463</td>\n",
       "      <td>1</td>\n",
       "      <td>133</td>\n",
       "      <td>3</td>\n",
       "      <td>failure</td>\n",
       "      <td>no</td>\n",
       "    </tr>\n",
       "    <tr>\n",
       "      <th>6</th>\n",
       "      <td>34.0</td>\n",
       "      <td>blue-collar</td>\n",
       "      <td>married</td>\n",
       "      <td>secondary</td>\n",
       "      <td>no</td>\n",
       "      <td>1924</td>\n",
       "      <td>yes</td>\n",
       "      <td>yes</td>\n",
       "      <td>cellular</td>\n",
       "      <td>1</td>\n",
       "      <td>apr</td>\n",
       "      <td>161</td>\n",
       "      <td>2</td>\n",
       "      <td>253</td>\n",
       "      <td>1</td>\n",
       "      <td>failure</td>\n",
       "      <td>no</td>\n",
       "    </tr>\n",
       "    <tr>\n",
       "      <th>7</th>\n",
       "      <td>45.0</td>\n",
       "      <td>services</td>\n",
       "      <td>divorced</td>\n",
       "      <td>secondary</td>\n",
       "      <td>no</td>\n",
       "      <td>396</td>\n",
       "      <td>yes</td>\n",
       "      <td>yes</td>\n",
       "      <td>cellular</td>\n",
       "      <td>1</td>\n",
       "      <td>apr</td>\n",
       "      <td>251</td>\n",
       "      <td>4</td>\n",
       "      <td>329</td>\n",
       "      <td>4</td>\n",
       "      <td>failure</td>\n",
       "      <td>no</td>\n",
       "    </tr>\n",
       "    <tr>\n",
       "      <th>8</th>\n",
       "      <td>58.0</td>\n",
       "      <td>management</td>\n",
       "      <td>divorced</td>\n",
       "      <td>tertiary</td>\n",
       "      <td>no</td>\n",
       "      <td>315</td>\n",
       "      <td>yes</td>\n",
       "      <td>no</td>\n",
       "      <td>cellular</td>\n",
       "      <td>1</td>\n",
       "      <td>apr</td>\n",
       "      <td>121</td>\n",
       "      <td>2</td>\n",
       "      <td>135</td>\n",
       "      <td>2</td>\n",
       "      <td>failure</td>\n",
       "      <td>no</td>\n",
       "    </tr>\n",
       "    <tr>\n",
       "      <th>9</th>\n",
       "      <td>49.0</td>\n",
       "      <td>management</td>\n",
       "      <td>divorced</td>\n",
       "      <td>tertiary</td>\n",
       "      <td>no</td>\n",
       "      <td>20727</td>\n",
       "      <td>no</td>\n",
       "      <td>no</td>\n",
       "      <td>cellular</td>\n",
       "      <td>1</td>\n",
       "      <td>apr</td>\n",
       "      <td>285</td>\n",
       "      <td>3</td>\n",
       "      <td>132</td>\n",
       "      <td>2</td>\n",
       "      <td>failure</td>\n",
       "      <td>no</td>\n",
       "    </tr>\n",
       "  </tbody>\n",
       "</table>\n",
       "</div>"
      ]
     },
     "execution_count": 14,
     "metadata": {},
     "output_type": "execute_result"
    }
   ],
   "execution_count": 14
  },
  {
   "metadata": {
    "ExecuteTime": {
     "end_time": "2025-02-20T11:17:33.359980Z",
     "start_time": "2025-02-20T11:17:33.347983Z"
    }
   },
   "cell_type": "code",
   "source": [
    "df_origin = df.copy()\n",
    "# Hard copy\n",
    "# df_origin.to_csv('../Data/bank_origin.csv', index=False)"
   ],
   "id": "47f7782d938de6d0",
   "outputs": [],
   "execution_count": 15
  },
  {
   "metadata": {},
   "cell_type": "markdown",
   "source": "## Missing values",
   "id": "4a915c34dc030661"
  },
  {
   "metadata": {
    "ExecuteTime": {
     "end_time": "2025-02-20T11:17:45.275334Z",
     "start_time": "2025-02-20T11:17:45.247345Z"
    }
   },
   "cell_type": "code",
   "source": "df.isna().sum()",
   "id": "f3bc2bdc947a2f4",
   "outputs": [
    {
     "data": {
      "text/plain": [
       "age            12\n",
       "job            10\n",
       "marital         0\n",
       "education     104\n",
       "default         0\n",
       "balance         0\n",
       "housing         0\n",
       "loan            0\n",
       "contact       191\n",
       "day             0\n",
       "month           0\n",
       "duration        0\n",
       "campaign        0\n",
       "pdays           0\n",
       "previous        0\n",
       "poutcome      454\n",
       "subscribed      0\n",
       "dtype: int64"
      ]
     },
     "execution_count": 16,
     "metadata": {},
     "output_type": "execute_result"
    }
   ],
   "execution_count": 16
  },
  {
   "metadata": {},
   "cell_type": "markdown",
   "source": "Percentages of missing values in relevant columns:",
   "id": "85d1da31f55ad3fa"
  },
  {
   "metadata": {
    "ExecuteTime": {
     "end_time": "2025-02-20T11:17:47.330482Z",
     "start_time": "2025-02-20T11:17:47.309427Z"
    }
   },
   "cell_type": "code",
   "source": [
    "# df[['age', 'job', 'education', 'contact']].value_counts()\n",
    "df_missing = df[['age', 'job', 'education', 'contact','poutcome']].isnull().mean() * 100\n",
    "print(df_missing)"
   ],
   "id": "84f78f59bd8592ce",
   "outputs": [
    {
     "name": "stdout",
     "output_type": "stream",
     "text": [
      "age           0.60\n",
      "job           0.50\n",
      "education     5.20\n",
      "contact       9.55\n",
      "poutcome     22.70\n",
      "dtype: float64\n"
     ]
    }
   ],
   "execution_count": 17
  },
  {
   "metadata": {},
   "cell_type": "markdown",
   "source": [
    "from this we can get a good idea on what to do with the missing values.\n",
    "\n",
    "age: 0.6% - we can fill this with the mean or median.\\\n",
    "job: 0.5% - we can fill this with the mode.\\\n",
    "education: 5.2% - we can fill this with the mode or group by job and fill with the mode.\\\n",
    "contact: 9.55% - we can fill this with the mode.\\\n",
    "poutcome: 22.7% - this column has a high percentage of missing values when compared to the others, we could take the approach of creating a \"missing\" category by comparing it with other columns within the dataset to find some reason as to why there is so many NaN values."
   ],
   "id": "5e550a5f367f09ec"
  },
  {
   "metadata": {
    "ExecuteTime": {
     "end_time": "2025-02-20T11:17:49.770806Z",
     "start_time": "2025-02-20T11:17:49.756537Z"
    }
   },
   "cell_type": "code",
   "source": [
    "# Age\n",
    "df['age'].fillna(df['age'].mean(), inplace=True)\n",
    "# Job\n",
    "df['job'].fillna(df['job'].mode()[0], inplace=True)\n",
    "# education\n",
    "df['education'].fillna(df['education'].mode()[0], inplace=True)"
   ],
   "id": "11a47ab3096d366f",
   "outputs": [],
   "execution_count": 18
  },
  {
   "metadata": {
    "ExecuteTime": {
     "end_time": "2025-02-20T11:17:54.915859Z",
     "start_time": "2025-02-20T11:17:54.735862Z"
    }
   },
   "cell_type": "code",
   "source": [
    "# Contact\n",
    "sns.barplot(x=df['contact'].value_counts().index, y=df['contact'].value_counts())"
   ],
   "id": "f5eae6a1011f89cf",
   "outputs": [
    {
     "data": {
      "text/plain": [
       "<Axes: xlabel='contact', ylabel='count'>"
      ]
     },
     "execution_count": 19,
     "metadata": {},
     "output_type": "execute_result"
    },
    {
     "data": {
      "text/plain": [
       "<Figure size 640x480 with 1 Axes>"
      ],
      "image/png": "[encoded data removed]"
     },
     "metadata": {},
     "output_type": "display_data"
    }
   ],
   "execution_count": 19
  },
  {
   "metadata": {
    "ExecuteTime": {
     "end_time": "2025-02-20T11:17:58.429198Z",
     "start_time": "2025-02-20T11:17:58.418198Z"
    }
   },
   "cell_type": "code",
   "source": "df['contact'].unique()",
   "id": "26122ec9b711a7f9",
   "outputs": [
    {
     "data": {
      "text/plain": [
       "array(['cellular', 'telephone', nan], dtype=object)"
      ]
     },
     "execution_count": 20,
     "metadata": {},
     "output_type": "execute_result"
    }
   ],
   "execution_count": 20
  },
  {
   "metadata": {
    "ExecuteTime": {
     "end_time": "2025-02-20T11:18:01.746321Z",
     "start_time": "2025-02-20T11:18:01.739312Z"
    }
   },
   "cell_type": "code",
   "source": "df['contact'].value_counts()",
   "id": "9f0753f4a2156bde",
   "outputs": [
    {
     "data": {
      "text/plain": [
       "contact\n",
       "cellular     1663\n",
       "telephone     146\n",
       "Name: count, dtype: int64"
      ]
     },
     "execution_count": 21,
     "metadata": {},
     "output_type": "execute_result"
    }
   ],
   "execution_count": 21
  },
  {
   "metadata": {
    "ExecuteTime": {
     "end_time": "2025-02-20T11:18:12.698489Z",
     "start_time": "2025-02-20T11:18:12.682406Z"
    }
   },
   "cell_type": "code",
   "source": [
    "contact_NaN = len(df) - df['contact'].value_counts().sum()\n",
    "print(contact_NaN)"
   ],
   "id": "8f84f2d7348bed26",
   "outputs": [
    {
     "name": "stdout",
     "output_type": "stream",
     "text": [
      "191\n"
     ]
    }
   ],
   "execution_count": 22
  },
  {
   "metadata": {},
   "cell_type": "markdown",
   "source": "Contacts is missing just about 10% (191/2000) of the data, on top of this, the only two categories are cellular and telephone meaning it is probably safe to fill in the missing values with the mode.",
   "id": "9260530fae25ea4e"
  },
  {
   "metadata": {
    "ExecuteTime": {
     "end_time": "2025-02-20T11:18:27.602501Z",
     "start_time": "2025-02-20T11:18:27.590122Z"
    }
   },
   "cell_type": "code",
   "source": "df['contact'].fillna(df['contact'].mode()[0], inplace=True)",
   "id": "10b494ddd63382a5",
   "outputs": [],
   "execution_count": 23
  },
  {
   "metadata": {
    "ExecuteTime": {
     "end_time": "2025-02-20T11:23:55.583306Z",
     "start_time": "2025-02-20T11:23:55.576319Z"
    }
   },
   "cell_type": "code",
   "source": [
    "# poutcome\n",
    "poutcome_NaN = len(df) - df['poutcome'].value_counts().sum()\n",
    "\n",
    "print(df['poutcome'].value_counts(), df['poutcome'].unique(), \"NaN:\", poutcome_NaN)\n"
   ],
   "id": "963744911b5fe427",
   "outputs": [
    {
     "name": "stdout",
     "output_type": "stream",
     "text": [
      "poutcome\n",
      "failure    955\n",
      "success    444\n",
      "other      147\n",
      "Name: count, dtype: int64 ['failure' 'other' 'success' nan] NaN: 454\n"
     ]
    }
   ],
   "execution_count": 28
  },
  {
   "metadata": {},
   "cell_type": "markdown",
   "source": "poutcome has a high percentage of missing values, 22.7% (454/2000). But from looking at the dataset, these NaN poutcome values might have meaning when we look at the \"previous\" column.",
   "id": "9756e07383d24644"
  },
  {
   "metadata": {
    "ExecuteTime": {
     "end_time": "2025-02-20T11:44:56.853038Z",
     "start_time": "2025-02-20T11:44:56.789092Z"
    }
   },
   "cell_type": "code",
   "source": [
    "df_NaN_poutcome = df[df['poutcome'].isna()]\n",
    "df_NaN_poutcome['previous'].value_counts()"
   ],
   "id": "befa09bb1c4a990a",
   "outputs": [
    {
     "data": {
      "text/plain": [
       "previous\n",
       "0    454\n",
       "Name: count, dtype: int64"
      ]
     },
     "execution_count": 29,
     "metadata": {},
     "output_type": "execute_result"
    }
   ],
   "execution_count": 29
  },
  {
   "metadata": {},
   "cell_type": "markdown",
   "source": "The \"previous\" has direct correlation with the \"poutcome\" column. If the \"previous\" column is 0, then the \"poutcome\" is NaN. This most likely indicates that these are new customers so we will create this category.",
   "id": "22e61ba5f3e84249"
  },
  {
   "metadata": {
    "ExecuteTime": {
     "end_time": "2025-02-20T11:53:35.641216Z",
     "start_time": "2025-02-20T11:53:35.604531Z"
    }
   },
   "cell_type": "code",
   "source": [
    "df['poutcome'].fillna('new customer', inplace=True)\n",
    "\n",
    "poutcome_NaN = len(df) - df['poutcome'].value_counts().sum()\n",
    "\n",
    "print(df['poutcome'].value_counts(), df['poutcome'].unique(), \"NaN:\", poutcome_NaN)"
   ],
   "id": "7a7830609b3bc27",
   "outputs": [
    {
     "name": "stdout",
     "output_type": "stream",
     "text": [
      "poutcome\n",
      "failure         955\n",
      "new customer    454\n",
      "success         444\n",
      "other           147\n",
      "Name: count, dtype: int64 ['failure' 'other' 'success' 'new customer'] NaN: 0\n"
     ]
    }
   ],
   "execution_count": 30
  },
  {
   "metadata": {
    "ExecuteTime": {
     "end_time": "2025-02-20T11:54:04.055800Z",
     "start_time": "2025-02-20T11:54:04.026806Z"
    }
   },
   "cell_type": "code",
   "source": "df.isna().sum()",
   "id": "267a15fbddfba56f",
   "outputs": [
    {
     "data": {
      "text/plain": [
       "age           0\n",
       "job           0\n",
       "marital       0\n",
       "education     0\n",
       "default       0\n",
       "balance       0\n",
       "housing       0\n",
       "loan          0\n",
       "contact       0\n",
       "day           0\n",
       "month         0\n",
       "duration      0\n",
       "campaign      0\n",
       "pdays         0\n",
       "previous      0\n",
       "poutcome      0\n",
       "subscribed    0\n",
       "dtype: int64"
      ]
     },
     "execution_count": 31,
     "metadata": {},
     "output_type": "execute_result"
    }
   ],
   "execution_count": 31
  },
  {
   "metadata": {},
   "cell_type": "markdown",
   "source": "All missing values have been dealt with :)",
   "id": "8023eee594c79b33"
  },
  {
   "metadata": {},
   "cell_type": "markdown",
   "source": [
    "## Process and Encode the Categorical Features\n",
    "\n",
    "### Jobs"
   ],
   "id": "26708ec57052c482"
  },
  {
   "metadata": {
    "ExecuteTime": {
     "end_time": "2025-02-20T12:03:58.074559Z",
     "start_time": "2025-02-20T12:03:58.046561Z"
    }
   },
   "cell_type": "code",
   "source": "df['job'].unique()",
   "id": "fc9b79d682073919",
   "outputs": [
    {
     "data": {
      "text/plain": [
       "array(['technician', 'retired', 'blue-collar', 'self-employed',\n",
       "       'services', 'management', 'admin.', 'unemployed', 'student',\n",
       "       'entrepreneur', 'housemaid'], dtype=object)"
      ]
     },
     "execution_count": 32,
     "metadata": {},
     "output_type": "execute_result"
    }
   ],
   "execution_count": 32
  },
  {
   "metadata": {},
   "cell_type": "markdown",
   "source": "Jobs have 12 unique values. We can encode these using one-hot encoding (For nominal categorical variables).",
   "id": "4d0f7f8b4a219e75"
  },
  {
   "metadata": {},
   "cell_type": "code",
   "outputs": [],
   "execution_count": null,
   "source": "",
   "id": "7b20e5f3c1854f5c"
  }
 ],
 "metadata": {
  "kernelspec": {
   "display_name": "Python 3",
   "language": "python",
   "name": "python3"
  },
  "language_info": {
   "codemirror_mode": {
    "name": "ipython",
    "version": 2
   },
   "file_extension": ".py",
   "mimetype": "text/x-python",
   "name": "python",
   "nbconvert_exporter": "python",
   "pygments_lexer": "ipython2",
   "version": "2.7.6"
  }
 },
 "nbformat": 4,
 "nbformat_minor": 5
}
